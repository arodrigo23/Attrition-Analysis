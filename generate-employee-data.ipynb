{
 "cells": [
  {
   "cell_type": "markdown",
   "id": "eec1d61d-c461-444b-8af1-858ef493e45f",
   "metadata": {},
   "source": [
    "# Import and initialize"
   ]
  },
  {
   "cell_type": "code",
   "execution_count": 1,
   "id": "eddad766-3869-4ac7-8fb5-d5aff0833f93",
   "metadata": {},
   "outputs": [],
   "source": [
    "import pandas as pd\n",
    "import numpy as np\n",
    "from faker import Faker\n",
    "from datetime import datetime, timedelta\n",
    "import random\n",
    "\n",
    "#Initialize Faker\n",
    "fake = Faker('en_US')\n",
    "Faker.seed(42)\n",
    "np.random.seed(42)\n",
    "random.seed(42)\n",
    "\n",
    "num_records = 13820"
   ]
  },
  {
   "cell_type": "markdown",
   "id": "545d52b1-fc20-4e61-be3b-e403fb040e32",
   "metadata": {},
   "source": [
    "# Attribute Definitions, Mappings, and Probabilities"
   ]
  },
  {
   "cell_type": "markdown",
   "id": "94b9b031-561d-4c25-8ddd-960f95d37bb4",
   "metadata": {},
   "source": [
    "## Location"
   ]
  },
  {
   "cell_type": "code",
   "execution_count": 2,
   "id": "deee344f-14e5-4461-8d2d-ba5855d502fc",
   "metadata": {},
   "outputs": [],
   "source": [
    "#Define employee locations\n",
    "#Cities\n",
    "states_cities = {\n",
    "    'New York': ['New York City', 'Buffalo', 'Rochester'],\n",
    "    'Virginia': ['Virginia Beach', 'Norfolk', 'Richmond'],\n",
    "    'Florida': ['Miami', 'Orlando', 'Tampa'],\n",
    "    'Illinois': ['Chicago', 'Aurora', 'Naperville'],\n",
    "    'Pennsylvania': ['Philadelphia', 'Pittsburgh', 'Allentown'],\n",
    "    'Ohio': ['Columbus', 'Cleveland', 'Cincinnati'],\n",
    "    'North Carolina': ['Charlotte', 'Raleigh', 'Greensboro'],\n",
    "    'Michigan': ['Detroit', 'Grand Rapids', 'Warren']\n",
    "}\n",
    "\n",
    "#States\n",
    "states = list(states_cities.keys())\n",
    "\n",
    "#Probabilities for the number of employees working in each state\n",
    "state_prob = [0.7, 0.02, 0.01, 0.03, 0.05, 0.03, 0.05, 0.11]\n",
    "\n",
    "assigned_states = np.random.choice(states, size=num_records, p=state_prob)\n",
    "assigned_cities = [np.random.choice(states_cities[state]) for state in assigned_states]"
   ]
  },
  {
   "cell_type": "markdown",
   "id": "bb98242d-9e66-4dfc-a6c9-345826aa5b67",
   "metadata": {},
   "source": [
    "## Departments and job titles"
   ]
  },
  {
   "cell_type": "code",
   "execution_count": 3,
   "id": "8b848a55-f7e3-4804-a4f1-a9917fc56622",
   "metadata": {},
   "outputs": [],
   "source": [
    "#Define departments and job titles\n",
    "departments = ['HR', 'IT', 'Sales', 'Marketing', 'Finance', 'Operations', 'Customer Service']\n",
    "#Probabilities for the number of employees working in each dept\n",
    "departments_prob = [0.02, 0.15, 0.21, 0.08, 0.05, 0.30, 0.19] \n",
    "\n",
    "#Department/job title mapping\n",
    "jobtitles = {\n",
    "    'HR': ['HR Manager', 'HR Coordinator', 'Recruiter', 'HR Assistant'],\n",
    "    'IT': ['IT Manager', 'Software Developer', 'System Administrator', 'IT Support Specialist'],\n",
    "    'Sales': ['Sales Manager', 'Sales Consultant', 'Sales Specialist', 'Sales Representative'],\n",
    "    'Marketing': ['Marketing Manager', 'SEO Specialist', 'Content Creator', 'Marketing Coordinator'],\n",
    "    'Finance': ['Finance Manager', 'Accountant', 'Financial Analyst', 'Accounts Payable Specialist'],\n",
    "    'Operations': ['Operations Manager', 'Operations Analyst', 'Logistics Coordinator', 'Inventory Specialist'],\n",
    "    'Customer Service': ['Customer Service Manager', 'Customer Service Representative', 'Support Specialist', 'Help Desk Technician']\n",
    "}\n",
    "#Probabilities for the number of employees having each job title\n",
    "jobtitles_prob = {\n",
    "    'HR': [0.03, 0.3, 0.47, 0.2],\n",
    "    'IT': [0.02, 0.47, 0.2, 0.31],\n",
    "    'Sales': [0.03, 0.25, 0.32, 0.4],\n",
    "    'Marketing': [0.04, 0.25, 0.41, 0.3],\n",
    "    'Finance': [0.03, 0.37, 0.4, 0.2],\n",
    "    'Operations': [0.02, 0.2, 0.4, 0.38],\n",
    "    'Customer Service': [0.04, 0.3, 0.38, 0.28]\n",
    "}"
   ]
  },
  {
   "cell_type": "markdown",
   "id": "750aa655-3ffb-451c-955e-3539cf21b6b7",
   "metadata": {},
   "source": [
    "## Education levels"
   ]
  },
  {
   "cell_type": "code",
   "execution_count": 4,
   "id": "bee36a47-9f91-473f-b564-234467575281",
   "metadata": {},
   "outputs": [],
   "source": [
    "#Education levels (highest education completed): 'High School', 'Bachelor', 'Master', 'PhD']\n",
    "#Map education levels to job titles\n",
    "education_mapping = {\n",
    "    'HR Manager': ['Master', 'PhD'],\n",
    "    'HR Coordinator': ['Bachelor', 'Master'],\n",
    "    'Recruiter': ['High School', 'Bachelor'],\n",
    "    'HR Assistant': [\"High School\", \"Bachelor\"],\n",
    "    'IT Manager': [\"PhD\", \"Master\"],\n",
    "    'Software Developer': [\"Bachelor\", \"Master\"],\n",
    "    'System Administrator': [\"Bachelor\", \"Master\"],\n",
    "    'IT Support Specialist': [\"High School\", \"Bachelor\"],\n",
    "    'Marketing Coordinator': [\"Bachelor\"],\n",
    "    'Finance Manager': [\"Master\", \"PhD\"],\n",
    "    'Accountant': [\"Bachelor\"],\n",
    "    'Logistics Coordinator': [\"Bachelor\"],\n",
    "    'Sales Manager': [\"Master\", \"PhD\"],\n",
    "    'Sales Consultant': [\"Bachelor\", \"Master\", \"PhD\"], 'Sales Specialist': [\"Bachelor\", \"Master\", \"PhD\"], 'Sales Representative': [\"Bachelor\"], 'Marketing Manager': [\"Bachelor\", \"Master\", \"PhD\"], 'SEO Specialist': [\"High School\", \"Bachelor\"],\n",
    "    'Content Creator': [\"High School\", \"Bachelor\"],\n",
    "    'Financial Analyst': [\"Bachelor\", \"Master\", \"PhD\"],\n",
    "    'Accounts Payable Specialist': [\"Bachelor\"],\n",
    "    'Operations Manager': [\"Bachelor\", \"Master\"],\n",
    "    'Operations Analyst': [\"Bachelor\", \"Master\"],\n",
    "    'Inventory Specialist': [\"High School\", \"Bachelor\"],\n",
    "    'Customer Service Manager': [\"Bachelor\", \"Master\", \"PhD\"],\n",
    "    'Customer Service Representative': [\"High School\", \"Bachelor\"],\n",
    "    'Support Specialist': [\"High School\", \"Bachelor\"],\n",
    "    'Customer Success Manager': [\"Bachelor\", \"Master\", \"PhD\"],\n",
    "    'Help Desk Technician': [\"High School\", \"Bachelor\"]\n",
    "}"
   ]
  },
  {
   "cell_type": "markdown",
   "id": "667ca264-8c8a-4b1a-a57d-03d772bff02b",
   "metadata": {},
   "source": [
    "## Base salary"
   ]
  },
  {
   "cell_type": "code",
   "execution_count": 5,
   "id": "d0d61adf-7992-48d9-93a3-5c3eb5628022",
   "metadata": {},
   "outputs": [],
   "source": [
    "#Function to define base salary for each job title\n",
    "def get_base_salary(department, job_title):\n",
    "    salary_dict = {\n",
    "        'HR': {\n",
    "            'HR Manager': np.random.randint(60000, 90000), #\n",
    "            'HR Coordinator': np.random.randint(50000, 60000),\n",
    "            'Recruiter': np.random.randint(50000, 70000), \n",
    "            'HR Assistant': np.random.randint(50000, 60000)\n",
    "        },\n",
    "        'IT': {\n",
    "            'IT Manager': np.random.randint(80000, 120000), \n",
    "            'Software Developer': np.random.randint(70000, 95000), \n",
    "            'System Administrator': np.random.randint(60000, 90000), \n",
    "            'IT Support Specialist': np.random.randint(50000, 60000)\n",
    "        },\n",
    "        'Sales': {\n",
    "            'Sales Manager': np.random.randint(70000, 110000), \n",
    "            'Sales Consultant': np.random.randint(60000, 90000), \n",
    "            'Sales Specialist': np.random.randint(50000, 80000), \n",
    "            'Sales Representative': np.random.randint(50000, 70000)\n",
    "        },\n",
    "        'Marketing': {\n",
    "            'Marketing Manager': np.random.randint(70000, 100000), \n",
    "            'SEO Specialist': np.random.randint(50000, 80000), \n",
    "            'Content Creator': np.random.randint(50000, 60000), \n",
    "            'Marketing Coordinator': np.random.randint(50000, 70000)\n",
    "        },\n",
    "        'Finance': {\n",
    "            'Finance Manager': np.random.randint(80000, 120000), \n",
    "            'Accountant': np.random.randint(50000, 80000), \n",
    "            'Financial Analyst': np.random.randint(60000, 90000),\n",
    "            'Accounts Payable Specialist': np.random.randint(50000, 60000)\n",
    "        },\n",
    "        'Operations': {\n",
    "            'Operations Manager': np.random.randint(70000, 100000), \n",
    "            'Operations Analyst': np.random.randint(50000, 80000),\n",
    "            'Logistics Coordinator': np.random.randint(50000, 60000), \n",
    "            'Inventory Specialist': np.random.randint(50000, 60000)\n",
    "        },\n",
    "        'Customer Service': {\n",
    "            'Customer Service Manager': np.random.randint(60000, 90000), \n",
    "            'Customer Service Representative': np.random.randint(50000, 60000),\n",
    "            'Support Specialist': np.random.randint(50000, 60000),\n",
    "            'Help Desk Technician': np.random.randint(50000, 80000)\n",
    "        }\n",
    "    }\n",
    "    return salary_dict[department][job_title]"
   ]
  },
  {
   "cell_type": "markdown",
   "id": "38bb9e65-5592-470c-b32f-c2c1c30086b7",
   "metadata": {},
   "source": [
    "## Performance rating"
   ]
  },
  {
   "cell_type": "code",
   "execution_count": 6,
   "id": "3d87c8f5-b109-4cb1-b994-f1c0ff89f813",
   "metadata": {},
   "outputs": [],
   "source": [
    "#Possible performance ratings\n",
    "performance = ['Excellent', 'Good', 'Satisfactory', 'Needs Improvement']\n",
    "\n",
    "#Probabilities that an employee can have each performance rating\n",
    "performance_prob = [0.12, 0.5, 0.3, 0.08]"
   ]
  },
  {
   "cell_type": "markdown",
   "id": "8c63e517-751f-4f43-9448-103755272072",
   "metadata": {},
   "source": [
    "## Gender"
   ]
  },
  {
   "cell_type": "code",
   "execution_count": 7,
   "id": "6ad856b4-8090-4a74-9666-82d57695c79b",
   "metadata": {},
   "outputs": [],
   "source": [
    "#Genders\n",
    "genders = ['Female', 'Male']\n",
    "\n",
    "#Probabilities that an employee can be each gender\n",
    "gender_prob = [0.46, 0.54]"
   ]
  },
  {
   "cell_type": "markdown",
   "id": "4a222467-3c60-499d-94a3-290b0633b9b4",
   "metadata": {},
   "source": [
    "## Overtime"
   ]
  },
  {
   "cell_type": "code",
   "execution_count": 8,
   "id": "86f9e31a-921e-472d-8997-751b38b9dcfd",
   "metadata": {},
   "outputs": [],
   "source": [
    "#Did employee have overtime?\n",
    "overtimes = ['Yes', 'No']\n",
    "\n",
    "#Probabilities that an employee had overtime\n",
    "overtime_prob = [0.3, 0.7]"
   ]
  },
  {
   "cell_type": "markdown",
   "id": "e58e6d9f-fc83-458e-a322-57c48a565030",
   "metadata": {},
   "source": [
    "# Generate hire date"
   ]
  },
  {
   "cell_type": "markdown",
   "id": "afd690ca-2467-45c3-a6da-99d1ba62e13a",
   "metadata": {},
   "source": [
    "## Yearly hiring distribution"
   ]
  },
  {
   "cell_type": "code",
   "execution_count": 9,
   "id": "6ba8c007-748b-4906-b4ed-14e74b217cfb",
   "metadata": {},
   "outputs": [],
   "source": [
    "#Define probability weights for the number of employees hired each year\n",
    "year_weights = {\n",
    "    2015: 5, \n",
    "    2016: 8, \n",
    "    2017: 17, \n",
    "    2018: 9, \n",
    "    2019: 10, \n",
    "    2020: 11, \n",
    "    2021: 5, \n",
    "    2022: 12, \n",
    "    2023: 14, \n",
    "    2024: 9 \n",
    "}"
   ]
  },
  {
   "cell_type": "markdown",
   "id": "4e20e460-ef47-4204-81e0-2b6260cd5144",
   "metadata": {},
   "source": [
    "## Function to generate hiredate"
   ]
  },
  {
   "cell_type": "code",
   "execution_count": 10,
   "id": "c49300dd-937e-4e80-8f0b-b967ffd12341",
   "metadata": {},
   "outputs": [],
   "source": [
    "#Function to generate hire date based on custom probabilities\n",
    "def generate_hiredate(year_weights):\n",
    "    year = random.choices (list(year_weights.keys()), weights=list(year_weights.values()))[0] \n",
    "    month = random.randint(1, 12)\n",
    "    day = random.randint(1, 28) # Assuming all months have 28 days for simplicity\n",
    "    return fake.date_time_between(start_date=datetime(year, 1, 1), end_date=datetime(year, 12, 31))"
   ]
  },
  {
   "cell_type": "markdown",
   "id": "40222749-f4a9-4195-923a-d7c4cfe16635",
   "metadata": {},
   "source": [
    "# Generate dataset with initial fields"
   ]
  },
  {
   "cell_type": "markdown",
   "id": "5ddd35c8-d9a9-415b-b0fa-fa9a40cf032c",
   "metadata": {},
   "source": [
    "## Create and populate list"
   ]
  },
  {
   "cell_type": "code",
   "execution_count": 11,
   "id": "3d51506a-8a98-4022-a36e-6973477c8226",
   "metadata": {},
   "outputs": [],
   "source": [
    "#Generate dataset with initial fields\n",
    "data = []\n",
    "\n",
    "for _ in range(num_records):\n",
    "    employee_id = f\"00-{random.randint(10000000, 99999999)}\"\n",
    "    first_name = fake.first_name()\n",
    "    last_name = fake.last_name()\n",
    "    gender = np.random.choice(genders, p=gender_prob)\n",
    "    state = np.random.choice(states, p=state_prob)\n",
    "    city = np.random.choice(states_cities[state])\n",
    "    hiredate = generate_hiredate(year_weights)\n",
    "    department = np.random.choice(departments, p=departments_prob)\n",
    "    job_title = np.random.choice(jobtitles[department], p=jobtitles_prob[department])\n",
    "    education_level = np.random.choice(education_mapping[job_title])\n",
    "    performance_rating = np.random.choice(performance, p=performance_prob)\n",
    "    overtime = np.random.choice(overtimes, p=overtime_prob)\n",
    "    salary = get_base_salary(department, job_title)\n",
    "    \n",
    "    data.append([\n",
    "        employee_id,\n",
    "        first_name,\n",
    "        last_name,\n",
    "        gender,\n",
    "        state, \n",
    "        city,\n",
    "        hiredate,\n",
    "        department,\n",
    "        job_title,\n",
    "        education_level,\n",
    "        salary,\n",
    "        performance_rating,\n",
    "        overtime\n",
    "    ])"
   ]
  },
  {
   "cell_type": "markdown",
   "id": "c6adc582-977c-4b20-a1e2-d2e9978a4d9a",
   "metadata": {},
   "source": [
    "## Create dataframe from list"
   ]
  },
  {
   "cell_type": "code",
   "execution_count": 12,
   "id": "8a154e58-5d13-4ca7-be82-f02a6b044ddc",
   "metadata": {},
   "outputs": [],
   "source": [
    "#Create and populate dataframe with initial fields\n",
    "columns = [\n",
    "    'employee_id',\n",
    "    'first_name',\n",
    "    'last_name',\n",
    "    'gender',\n",
    "    'state',\n",
    "    'city',\n",
    "    'hiredate',\n",
    "    'department',\n",
    "    'job_title',\n",
    "    'education_level',\n",
    "    'salary',\n",
    "    'performance_rating',\n",
    "    'overtime'\n",
    "    ]\n",
    "    \n",
    "df = pd.DataFrame(data, columns=columns)"
   ]
  },
  {
   "cell_type": "markdown",
   "id": "99cedad3-3883-4646-8f0c-b2fba38c4850",
   "metadata": {},
   "source": [
    "# Generate birthdate"
   ]
  },
  {
   "cell_type": "markdown",
   "id": "4a8ba35f-6433-4ae3-9e97-8628f60eb433",
   "metadata": {},
   "source": [
    "## Function to generate birthdate"
   ]
  },
  {
   "cell_type": "code",
   "execution_count": 13,
   "id": "b38c1335-b0ad-46c2-bc78-92b0e84d542a",
   "metadata": {},
   "outputs": [],
   "source": [
    "#Funciton to generate birthdate\n",
    "def generate_birthdate(row):\n",
    "    age_distribution = {\n",
    "        'under_25': 0.11,\n",
    "        '25_34': 0.25,\n",
    "        '35_44': 0.31,\n",
    "        '45_54': 0.24,\n",
    "        'over_55': 0.09\n",
    "    }\n",
    "    age_groups = list(age_distribution.keys())\n",
    "    age_probs = list(age_distribution.values())\n",
    "    age_group = np.random.choice(age_groups, p=age_probs)\n",
    "    \n",
    "    if any('Manager' in title for title in row['job_title']):\n",
    "        age = np.random.randint(30, 65)\n",
    "    elif row['education_level'] == 'PhD':\n",
    "        age = np.random.randint(27, 65)\n",
    "    elif age_group == 'under_25':\n",
    "        age = np.random.randint(20, 25)\n",
    "    elif age_group == '25_34':\n",
    "        age = np.random.randint(25, 35)\n",
    "    elif age_group == '35_44':\n",
    "        age = np.random.randint(35, 45)\n",
    "    elif age_group == '45_54':\n",
    "        age = np.random.randint(45, 55)\n",
    "    else:\n",
    "        age = np.random.randint(56, 65)\n",
    "    \n",
    "    #Use Faker to generate a birthdate within the calculated birth year\n",
    "    birthdate = fake.date_of_birth(minimum_age=age, maximum_age=age)\n",
    "    \n",
    "    #Adjust birthdate if it results in age less than 18 upon hire\n",
    "    hire_date = row['hiredate'].date()\n",
    "    if (hire_date - birthdate).days < 365.25 * 18:\n",
    "        if birthdate.month < hire_date.month:\n",
    "            birthdate = birthdate.replace(year=hire_date.year - 18)\n",
    "        else:\n",
    "            birthdate = birthdate.replace(year=hire_date.year - 19)\n",
    "        \n",
    "    return birthdate"
   ]
  },
  {
   "cell_type": "markdown",
   "id": "60849a1b-404e-419a-9acd-4932534dbc79",
   "metadata": {},
   "source": [
    "## Add birthdate to dataframe"
   ]
  },
  {
   "cell_type": "code",
   "execution_count": 14,
   "id": "42a4af88-a400-4ba0-880e-2fd8dbdda869",
   "metadata": {},
   "outputs": [],
   "source": [
    "#Add birthdates to dataframe\n",
    "df['birthdate'] = df.apply(generate_birthdate, axis=1)"
   ]
  },
  {
   "cell_type": "markdown",
   "id": "7193acd7-a9f4-49bb-9eab-4aa88c47b07e",
   "metadata": {},
   "source": [
    "# Generate termination date"
   ]
  },
  {
   "cell_type": "markdown",
   "id": "158a989e-3ccd-45f1-b493-1c353fcfbc7f",
   "metadata": {},
   "source": [
    "## Yearly termination distribution"
   ]
  },
  {
   "cell_type": "code",
   "execution_count": 15,
   "id": "c719b810-eb12-4120-87f1-0e5b6a4d7f03",
   "metadata": {},
   "outputs": [],
   "source": [
    "#Define probability weights for the number of employees terminated each year\n",
    "year_weights = {\n",
    "    2015: 5,\n",
    "    2016: 7, \n",
    "    2017: 10,\n",
    "    2018: 12,\n",
    "    2019: 9,\n",
    "    2020: 10,\n",
    "    2021: 20,\n",
    "    2022: 10,\n",
    "    2023: 7,\n",
    "    2024: 10\n",
    "}"
   ]
  },
  {
   "cell_type": "markdown",
   "id": "f16b6171-ef5d-4b30-87ab-0a4aedc182a9",
   "metadata": {},
   "source": [
    "## Calculate total number of terminated employees"
   ]
  },
  {
   "cell_type": "code",
   "execution_count": 16,
   "id": "9bc64942-e223-40ab-ae8f-d6791c7fee7d",
   "metadata": {},
   "outputs": [],
   "source": [
    "#Calculate total number of terminated employees\n",
    "total_employees = num_records\n",
    "termination_percentage = 0.112  # 11.2%\n",
    "total_terminated = int(total_employees * termination_percentage)"
   ]
  },
  {
   "cell_type": "markdown",
   "id": "9cd9b156-2c8f-46e1-aa48-b8d811ad2fad",
   "metadata": {},
   "source": [
    "## Generate termination dates based on yearly distribution"
   ]
  },
  {
   "cell_type": "code",
   "execution_count": 17,
   "id": "bdc4a1fc-038b-4dda-ab91-025422b3350a",
   "metadata": {},
   "outputs": [],
   "source": [
    "#Generate termination dates based on yearly distribution \n",
    "termination_dates = []\n",
    "for year, weight in year_weights.items():\n",
    "    num_terminations = int(total_terminated * (weight / 100))\n",
    "    termination_dates.extend([year] * num_terminations)"
   ]
  },
  {
   "cell_type": "markdown",
   "id": "abf4497d-3b34-488a-a21d-9e290323df0d",
   "metadata": {},
   "source": [
    "## Randomly shuffle termination dates"
   ]
  },
  {
   "cell_type": "code",
   "execution_count": 18,
   "id": "7c023bf6-217f-485e-b771-8e8ef4af3334",
   "metadata": {},
   "outputs": [],
   "source": [
    "#Randomly shuffle termination dates \n",
    "random.shuffle(termination_dates)"
   ]
  },
  {
   "cell_type": "markdown",
   "id": "fa8ff856-e85a-4c2e-8216-b9575e00a45c",
   "metadata": {},
   "source": [
    "## Assign termination dates"
   ]
  },
  {
   "cell_type": "code",
   "execution_count": 19,
   "id": "8732d8e0-23a5-400e-b203-8f0a0b635d69",
   "metadata": {},
   "outputs": [],
   "source": [
    "#Assign termination dates to a subset of employees \n",
    "terminated_indices = df.index[:total_terminated]\n",
    "for i, year in enumerate(termination_dates[:total_terminated]):\n",
    "    df.at[terminated_indices[i], 'termdate'] = datetime(year, 1, 1) + timedelta(days=random.randint(0, 365))"
   ]
  },
  {
   "cell_type": "markdown",
   "id": "fa000c4f-ebe8-4b89-97c3-383d8fd4e96a",
   "metadata": {},
   "source": [
    "## Assign None to termdate for employees who are not terminated "
   ]
  },
  {
   "cell_type": "code",
   "execution_count": 20,
   "id": "5237579d-fe9f-435d-abcd-82d08c3438b8",
   "metadata": {},
   "outputs": [],
   "source": [
    "#Assign None to termdate for employees who are not terminated \n",
    "df['termdate'] = df.apply(lambda row: row['hiredate'] + timedelta(days=180) if row['termdate'] and row['termdate'] < row['hiredate'] + timedelta(days=180) else row['termdate'], axis=1)"
   ]
  },
  {
   "cell_type": "markdown",
   "id": "ac97dbcf-1127-4bb1-93e6-5ac92ad41699",
   "metadata": {},
   "source": [
    "# Generate adjusted salary"
   ]
  },
  {
   "cell_type": "markdown",
   "id": "cdae5553-c555-40a5-bc97-6af8f6970d98",
   "metadata": {},
   "source": [
    "## Define salary multiplier based on education level"
   ]
  },
  {
   "cell_type": "code",
   "execution_count": 21,
   "id": "0d04dacc-9adb-486a-99e7-a12fc39d7258",
   "metadata": {},
   "outputs": [],
   "source": [
    "education_multiplier = {\n",
    "    'High School': {'Male': 1.03, 'Female': 1.0},\n",
    "    'Bachelor': {'Male': 1.115, 'Female': 1.0},\n",
    "    'Master': {'Male': 1.0, 'Female': 1.07},\n",
    "    'PhD': {'Male': 1.0, 'Female': 1.17}\n",
    "}"
   ]
  },
  {
   "cell_type": "markdown",
   "id": "e0c4885c-e93f-49f0-a16b-154d083a1931",
   "metadata": {},
   "source": [
    "## Calculate employee age"
   ]
  },
  {
   "cell_type": "code",
   "execution_count": 22,
   "id": "0527bec6-aef1-47e5-b14d-8f55786517b5",
   "metadata": {},
   "outputs": [],
   "source": [
    "#Function to calculate age from birthdate \n",
    "def calculate_age(birthdate):\n",
    "    today = pd.Timestamp('today')\n",
    "    age = today.year - birthdate.year - ((today.month, today.day) < (birthdate.month, birthdate.day))\n",
    "    return age"
   ]
  },
  {
   "cell_type": "markdown",
   "id": "36190c7f-1a22-4f0f-8e95-be68b8ccecb3",
   "metadata": {},
   "source": [
    "## Generate adjusted salary based on base salarly, age, and education"
   ]
  },
  {
   "cell_type": "code",
   "execution_count": 23,
   "id": "7fe71fbe-73b7-4e34-b9ee-db8dcef7998c",
   "metadata": {},
   "outputs": [],
   "source": [
    "#Function to calcualte the adjusted salary \n",
    "def calculate_adjusted_salary(row):\n",
    "    base_salary = row['salary']\n",
    "    gender = row['gender']\n",
    "    education = row['education_level']\n",
    "    age = calculate_age(row['birthdate'])\n",
    "    \n",
    "    #Apply education multiplier\n",
    "    multiplier = education_multiplier.get(education, {}).get(gender, 1.0)\n",
    "    adjusted_salary = base_salary * multiplier\n",
    "    \n",
    "    #Apply age increment (between 0.1% and 0.3% per year of age)\n",
    "    age_increment = 1 + np.random.uniform(0.001, 0.003) * age\n",
    "    adjusted_salary *= age_increment\n",
    "    \n",
    "    #Ensure adjusted salary is not lower than base salary \n",
    "    adjusted_salary = max(adjusted_salary, base_salary)\n",
    "    \n",
    "    #Round to nearest integer \n",
    "    return round(adjusted_salary) "
   ]
  },
  {
   "cell_type": "markdown",
   "id": "b00beec4-d3b3-4216-bf80-28b0dc36547e",
   "metadata": {},
   "source": [
    "# Generate reason for termination"
   ]
  },
  {
   "cell_type": "code",
   "execution_count": 24,
   "id": "b5deeaa2-f066-482f-8caa-9b4597ea68e7",
   "metadata": {},
   "outputs": [],
   "source": [
    "#Function to generate termination reason based on predefined correlations (gender, job title, overtime, performance rating)\n",
    "def generate_term_reason(row):\n",
    "    gender = row['gender']\n",
    "    department = row['department']\n",
    "    job_title = row['job_title']\n",
    "    education_level = row['education_level']\n",
    "    performance_rating = row['performance_rating']\n",
    "    overtime = row['overtime']\n",
    "    salary = row['salary']\n",
    "    \n",
    "    #Job title\n",
    "    if 'Manager' in job_title and gender == 'Female':\n",
    "        term_reason = np.random.choice(['Voluntary', 'Involuntary'], p=[0.7, 0.3])\n",
    "    else:\n",
    "        term_reason = np.random.choice(['Voluntary', 'Involuntary'], p=[0.3, 0.7])\n",
    "        \n",
    "    #Overtime\n",
    "    if overtime == 'Yes':\n",
    "         term_reason = np.random.choice(['Voluntary', 'Involuntary'], p=[0.7, 0.3])\n",
    "    else:\n",
    "        term_reason = np.random.choice(['Voluntary', 'Involuntary'], p=[0.3, 0.7])\n",
    "        \n",
    "    #Performance rating\n",
    "    if performance_rating == 'Needs Improvement':\n",
    "         term_reason = np.random.choice(['Voluntary', 'Involuntary'], p=[0.7, 0.3])\n",
    "    else:\n",
    "        term_reason = np.random.choice(['Voluntary', 'Involuntary'], p=[0.3, 0.7])\n",
    "    \n",
    "    return term_reason"
   ]
  },
  {
   "cell_type": "markdown",
   "id": "928a3fcf-9c0a-4738-88c0-ca681bd01525",
   "metadata": {},
   "source": [
    "# Add salary and termination reason to the dataframe"
   ]
  },
  {
   "cell_type": "code",
   "execution_count": 25,
   "id": "b23cb7ed-e938-4c01-8a0e-9adf73c66ae5",
   "metadata": {},
   "outputs": [],
   "source": [
    "df['salary'] = df.apply(calculate_adjusted_salary, axis=1)\n",
    "df['term_reason'] = df.apply(generate_term_reason, axis=1)"
   ]
  },
  {
   "cell_type": "markdown",
   "id": "20f3f21c-d2d1-4760-b86b-5942ff8a3290",
   "metadata": {},
   "source": [
    "# Convert dates to datetime"
   ]
  },
  {
   "cell_type": "code",
   "execution_count": 26,
   "id": "d8f00bf1-697f-45c4-90ac-1a17a1b820e7",
   "metadata": {},
   "outputs": [],
   "source": [
    "#Convert 'hiredate', 'birthdate', and 'termdate' to datetime \n",
    "df['hiredate'] = pd.to_datetime(df['hiredate']).dt.date\n",
    "df['birthdate'] = pd.to_datetime(df['birthdate']).dt.date\n",
    "df['termdate'] = pd.to_datetime(df['termdate']).dt.date"
   ]
  },
  {
   "cell_type": "markdown",
   "id": "a1642fc3-f353-4667-bf8d-0a12c3c6cf7c",
   "metadata": {},
   "source": [
    "# Save to CSV"
   ]
  },
  {
   "cell_type": "code",
   "execution_count": 27,
   "id": "bfae8eb2-1744-4428-b27e-2b6ef89d69eb",
   "metadata": {},
   "outputs": [
    {
     "name": "stdout",
     "output_type": "stream",
     "text": [
      "Done\n"
     ]
    }
   ],
   "source": [
    "#Save to CSV\n",
    "df.to_csv('employee-dataset.csv', index=False)\n",
    "\n",
    "print(\"Done\")"
   ]
  }
 ],
 "metadata": {
  "kernelspec": {
   "display_name": "Python 3 (ipykernel)",
   "language": "python",
   "name": "python3"
  },
  "language_info": {
   "codemirror_mode": {
    "name": "ipython",
    "version": 3
   },
   "file_extension": ".py",
   "mimetype": "text/x-python",
   "name": "python",
   "nbconvert_exporter": "python",
   "pygments_lexer": "ipython3",
   "version": "3.12.5"
  }
 },
 "nbformat": 4,
 "nbformat_minor": 5
}
